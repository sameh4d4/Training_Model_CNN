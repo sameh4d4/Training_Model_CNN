{
 "cells": [
  {
   "cell_type": "code",
   "id": "initial_id",
   "metadata": {
    "collapsed": true,
    "ExecuteTime": {
     "end_time": "2024-09-17T02:58:21.347005Z",
     "start_time": "2024-09-17T02:58:11.948045Z"
    }
   },
   "source": [
    "from tensorflow.keras.applications import InceptionV3, VGG16, ResNet50, MobileNetV2\n",
    "from tensorflow.keras.layers import GlobalAveragePooling2D, Dense, Flatten\n",
    "from tensorflow.keras.optimizers import Adam\n",
    "from tensorflow.keras.models import Sequential\n",
    "from sklearn.preprocessing import LabelEncoder\n",
    "import keras\n",
    "import numpy as np\n",
    "from sklearn.model_selection import train_test_split\n",
    "import tensorflow as tf\n",
    "import cv2\n",
    "import os\n",
    "import random\n",
    "import datetime\n",
    "from tensorflow.keras.callbacks import EarlyStopping"
   ],
   "outputs": [],
   "execution_count": 1
  },
  {
   "metadata": {
    "ExecuteTime": {
     "end_time": "2024-09-17T02:59:39.240608Z",
     "start_time": "2024-09-17T02:59:39.235075Z"
    }
   },
   "cell_type": "code",
   "source": "model_path = \"Model CNN/converted\"",
   "id": "3bc8f6aa03b24f0b",
   "outputs": [],
   "execution_count": 4
  },
  {
   "metadata": {
    "ExecuteTime": {
     "end_time": "2024-09-17T02:59:39.296475Z",
     "start_time": "2024-09-17T02:59:39.286615Z"
    }
   },
   "cell_type": "code",
   "source": [
    "@keras.saving.register_keras_serializable()\n",
    "def combined_metric(y_true, y_pred):\n",
    "    val_loss = tf.keras.losses.categorical_crossentropy(y_true, y_pred)\n",
    "    val_acc = tf.keras.metrics.categorical_accuracy(y_true, y_pred)\n",
    "    return val_loss * (1 - val_acc)  # Lower values indicate better performance"
   ],
   "id": "65d88e22bd22f8bf",
   "outputs": [],
   "execution_count": 5
  },
  {
   "metadata": {
    "ExecuteTime": {
     "end_time": "2024-09-17T02:59:39.443803Z",
     "start_time": "2024-09-17T02:59:39.300477Z"
    }
   },
   "cell_type": "code",
   "source": "model = tf.keras.models.load_model(\"Model CNN/try again/model_inception_tf.keras\")",
   "id": "b5586dc1531af16c",
   "outputs": [],
   "execution_count": 6
  },
  {
   "metadata": {
    "ExecuteTime": {
     "end_time": "2024-09-17T02:59:40.276826Z",
     "start_time": "2024-09-17T02:59:39.447806Z"
    }
   },
   "cell_type": "code",
   "source": [
    "converter = tf.lite.TFLiteConverter.from_keras_model(model)\n",
    "tflite_model = converter.convert()\n",
    "with open(\"Model CNN/converted\"+'/model_inception.tflite', 'wb') as f:\n",
    " f.write(tflite_model)"
   ],
   "id": "a9b1be23f332fb48",
   "outputs": [
    {
     "name": "stdout",
     "output_type": "stream",
     "text": [
      "INFO:tensorflow:Assets written to: C:\\Users\\nicky\\AppData\\Local\\Temp\\tmpv62ojtma\\assets\n"
     ]
    },
    {
     "name": "stderr",
     "output_type": "stream",
     "text": [
      "INFO:tensorflow:Assets written to: C:\\Users\\nicky\\AppData\\Local\\Temp\\tmpv62ojtma\\assets\n"
     ]
    },
    {
     "name": "stdout",
     "output_type": "stream",
     "text": [
      "Saved artifact at 'C:\\Users\\nicky\\AppData\\Local\\Temp\\tmpv62ojtma'. The following endpoints are available:\n",
      "\n",
      "* Endpoint 'serve'\n",
      "  args_0 (POSITIONAL_ONLY): TensorSpec(shape=(None, 1, 1, 128), dtype=tf.float32, name='input_layer_25')\n",
      "Output Type:\n",
      "  TensorSpec(shape=(None, 2), dtype=tf.float32, name=None)\n",
      "Captures:\n",
      "  2447125976016: TensorSpec(shape=(), dtype=tf.resource, name=None)\n",
      "  2447125976592: TensorSpec(shape=(), dtype=tf.resource, name=None)\n",
      "  2447125976976: TensorSpec(shape=(), dtype=tf.resource, name=None)\n",
      "  2447125978128: TensorSpec(shape=(), dtype=tf.resource, name=None)\n"
     ]
    }
   ],
   "execution_count": 7
  }
 ],
 "metadata": {
  "kernelspec": {
   "display_name": "Python 3",
   "language": "python",
   "name": "python3"
  },
  "language_info": {
   "codemirror_mode": {
    "name": "ipython",
    "version": 2
   },
   "file_extension": ".py",
   "mimetype": "text/x-python",
   "name": "python",
   "nbconvert_exporter": "python",
   "pygments_lexer": "ipython2",
   "version": "2.7.6"
  }
 },
 "nbformat": 4,
 "nbformat_minor": 5
}
